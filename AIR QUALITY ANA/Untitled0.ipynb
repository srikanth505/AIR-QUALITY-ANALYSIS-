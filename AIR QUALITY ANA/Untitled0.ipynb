{
  "nbformat": 4,
  "nbformat_minor": 0,
  "metadata": {
    "colab": {
      "provenance": []
    },
    "kernelspec": {
      "name": "python3",
      "display_name": "Python 3"
    },
    "language_info": {
      "name": "python"
    }
  },
  "cells": [
    {
      "cell_type": "markdown",
      "source": [
        "1. Project Objectives:\n",
        "\n",
        "Empathize: Understand the needs and expectations of stakeholders, including environmental agencies, researchers, and the general public.\n",
        "Define: Clearly define the project objectives based on stakeholder input. For example:\n",
        "Understand long-term air quality trends in Tamil Nadu.\n",
        "Identify geographical areas with consistently high pollution levels.\n",
        "Develop a predictive model for estimating RSPM/PM10 levels based on SO2 and NO2 levels.\n",
        "Ideate: Brainstorm potential solutions and approaches to achieve these objectives.\n",
        "Prototype: Create a draft plan for how you intend to achieve these objectives. This can include high-level steps and milestones."
      ],
      "metadata": {
        "id": "NI5YovA119Dl"
      }
    },
    {
      "cell_type": "code",
      "source": [
        "import pandas as pd\n",
        "\n",
        "df = pd.read_csv('cpcb_dly_aq_tamil_nadu-2014.csv')\n",
        "\n",
        "print(df.head())\n",
        "\n",
        "df['column_name'].fillna(df['column_name'].mean(), inplace=True)\n",
        "\n",
        "df['Date'] = pd.to_datetime(df['Date'])\n",
        "\n",
        "from sklearn.preprocessing import StandardScaler\n",
        "scaler = StandardScaler()\n",
        "df[['Feature1', 'Feature2']] = scaler.fit_transform(df[['Feature1', 'Feature2']])\n",
        "import matplotlib.pyplot as plt\n",
        "import seaborn as sns\n",
        "\n",
        "plt.figure(figsize=(10, 6))\n",
        "sns.histplot(df['Feature1'], bins=20, kde=True)\n",
        "plt.title('Histogram of Feature1')\n",
        "plt.xlabel('Feature1 Value')\n",
        "plt.ylabel('Frequency')\n",
        "plt.show()\n",
        "from sklearn.model_selection import train_test_split\n",
        "from sklearn.linear_model import LinearRegression\n",
        "from sklearn.metrics import mean_squared_error\n",
        "\n",
        "X = df[['SO2', 'NO2']]\n",
        "y = df['RSPM']\n",
        "\n",
        "X_train, X_test, y_train, y_test = train_test_split(X, y, test_size=0.2, random_state=42)\n",
        "\n",
        "model = LinearRegression()\n",
        "\n",
        "model.fit(X_train, y_train)\n",
        "\n",
        "y_pred = model.predict(X_test)\n",
        "\n",
        "mse = mean_squared_error(y_test, y_pred)\n",
        "print(f'Mean Squared Error: {mse}')\n",
        "import matplotlib.pyplot as plt\n",
        "import seaborn as sns\n",
        "\n",
        "dates = ['2023-01-01', '2023-01-02', '2023-01-03', '2023-01-04']\n",
        "rspm_levels = [40, 45, 38, 42]\n",
        "pm10_levels = [30, 35, 28, 32]\n",
        "\n",
        "plt.figure(figsize=(10, 6))\n",
        "sns.lineplot(x=dates, y=rspm_levels, label='RSPM Levels')\n",
        "sns.lineplot(x=dates, y=pm10_levels, label='PM10 Levels')\n",
        "\n",
        "plt.xlabel('Date')\n",
        "plt.ylabel('Concentration')\n",
        "plt.title('Air Quality Trends Over Time')\n",
        "plt.xticks(rotation=45)\n",
        "plt.legend()\n",
        "plt.show()\n",
        "import matplotlib.pyplot as plt\n",
        "import seaborn as sns\n",
        "\n",
        "locations = ['Location A', 'Location B', 'Location C', 'Location D']\n",
        "pollution_levels = [65, 80, 90, 75]\n",
        "\n",
        "plt.figure(figsize=(8, 6))\n",
        "sns.heatmap(data=[pollution_levels], cmap='YlGnBu', annot=True, xticklabels=locations, yticklabels=False)\n",
        "\n",
        "plt.xlabel('Locations')\n",
        "plt.ylabel('Pollution Levels')\n",
        "plt.title('Pollution Hotspots Map')\n",
        "plt.show()\n"
      ],
      "metadata": {
        "id": "kV7khIIr2E6S"
      },
      "execution_count": null,
      "outputs": []
    },
    {
      "cell_type": "code",
      "execution_count": null,
      "metadata": {
        "id": "JU45Da8u13lk"
      },
      "outputs": [],
      "source": []
    }
  ]
}